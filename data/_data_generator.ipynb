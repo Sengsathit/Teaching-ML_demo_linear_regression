{
 "cells": [
  {
   "cell_type": "code",
   "execution_count": 1,
   "id": "af1697ba",
   "metadata": {},
   "outputs": [
    {
     "data": {
      "text/html": [
       "<div>\n",
       "<style scoped>\n",
       "    .dataframe tbody tr th:only-of-type {\n",
       "        vertical-align: middle;\n",
       "    }\n",
       "\n",
       "    .dataframe tbody tr th {\n",
       "        vertical-align: top;\n",
       "    }\n",
       "\n",
       "    .dataframe thead th {\n",
       "        text-align: right;\n",
       "    }\n",
       "</style>\n",
       "<table border=\"1\" class=\"dataframe\">\n",
       "  <thead>\n",
       "    <tr style=\"text-align: right;\">\n",
       "      <th></th>\n",
       "      <th>surface_m2</th>\n",
       "      <th>prix_euros</th>\n",
       "    </tr>\n",
       "  </thead>\n",
       "  <tbody>\n",
       "    <tr>\n",
       "      <th>0</th>\n",
       "      <td>57.5</td>\n",
       "      <td>180300</td>\n",
       "    </tr>\n",
       "    <tr>\n",
       "      <th>1</th>\n",
       "      <td>115.1</td>\n",
       "      <td>326100</td>\n",
       "    </tr>\n",
       "    <tr>\n",
       "      <th>2</th>\n",
       "      <td>93.2</td>\n",
       "      <td>296000</td>\n",
       "    </tr>\n",
       "    <tr>\n",
       "      <th>3</th>\n",
       "      <td>79.9</td>\n",
       "      <td>257400</td>\n",
       "    </tr>\n",
       "    <tr>\n",
       "      <th>4</th>\n",
       "      <td>35.6</td>\n",
       "      <td>114300</td>\n",
       "    </tr>\n",
       "  </tbody>\n",
       "</table>\n",
       "</div>"
      ],
      "text/plain": [
       "   surface_m2  prix_euros\n",
       "0        57.5      180300\n",
       "1       115.1      326100\n",
       "2        93.2      296000\n",
       "3        79.9      257400\n",
       "4        35.6      114300"
      ]
     },
     "execution_count": 1,
     "metadata": {},
     "output_type": "execute_result"
    }
   ],
   "source": [
    "import pandas as pd\n",
    "import numpy as np\n",
    "\n",
    "# Paramètres réalistes pour Lille\n",
    "np.random.seed(42)\n",
    "n = 1000\n",
    "\n",
    "# Générer des surfaces entre 20 m² et 120 m²\n",
    "surface = np.random.uniform(20, 120, n).round(1)\n",
    "\n",
    "# Prix au m² estimé pour Lille (~2800 à 3500 €/m²)\n",
    "prix_m2 = np.random.normal(loc=3100, scale=200, size=n)\n",
    "prix_m2 = np.clip(prix_m2, 2700, 3600)\n",
    "\n",
    "# Calcul du prix total\n",
    "prix_total = (surface * prix_m2).round(-2)\n",
    "\n",
    "# Créer le DataFrame\n",
    "df = pd.DataFrame({\n",
    "    \"surface_m2\": surface,\n",
    "    \"prix_euros\": prix_total.astype(int)\n",
    "})\n",
    "\n",
    "# Sauvegarde locale (optionnel)\n",
    "df.to_csv(\"lille_immobilier.csv\", index=False)\n",
    "\n",
    "# Aperçu\n",
    "df.head()"
   ]
  }
 ],
 "metadata": {
  "kernelspec": {
   "display_name": ".venv",
   "language": "python",
   "name": "python3"
  },
  "language_info": {
   "codemirror_mode": {
    "name": "ipython",
    "version": 3
   },
   "file_extension": ".py",
   "mimetype": "text/x-python",
   "name": "python",
   "nbconvert_exporter": "python",
   "pygments_lexer": "ipython3",
   "version": "3.13.3"
  }
 },
 "nbformat": 4,
 "nbformat_minor": 5
}
