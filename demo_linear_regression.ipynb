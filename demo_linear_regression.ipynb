{
 "cells": [
  {
   "cell_type": "markdown",
   "id": "abfb7016",
   "metadata": {},
   "source": [
    "![Lille](img/lille.jpeg)"
   ]
  },
  {
   "cell_type": "markdown",
   "id": "1f41a977",
   "metadata": {},
   "source": [
    "# Avant-propos\n",
    "___"
   ]
  },
  {
   "cell_type": "markdown",
   "id": "fec376cb",
   "metadata": {},
   "source": [
    "Ce notebook utilise un petit jeu de données fictif, inspiré du marché immobilier lillois. Il a été créé pour apprendre pas à pas comment fonctionne la régression linéaire.\n",
    "\n",
    "L’idée est de prédire le prix d’un logement en fonction d'une information simple, sa surface. C’est un exemple facile à comprendre, parfait pour s’initier à la modélisation."
   ]
  },
  {
   "cell_type": "markdown",
   "id": "9ada26ac",
   "metadata": {},
   "source": [
    "# Introduction\n",
    "___"
   ]
  },
  {
   "cell_type": "markdown",
   "id": "04b01c2c",
   "metadata": {},
   "source": [
    "Nous allons découvrir comment le machine learning peut être utilisé pour **prédire une valeur numérique** à partir de données d’entrée. C’est ce qu’on appelle un problème de **régression**.\n",
    "\n",
    "Nous allons nous intéresser à un cas simple mais très concret :  \n",
    "\n",
    "`Prédire le prix d’un bien immobilier en fonction de sa surface.`\n",
    "\n",
    "Ce type de question est au cœur de nombreux usages du ML :\n",
    "- prédire un salaire selon l’expérience,\n",
    "- estimer la consommation d’énergie selon la taille d’un logement,\n",
    "- estimer la valeur d’un véhicule selon son kilométrage…\n",
    "\n",
    "Notre objectif n’est pas seulement d’obtenir une prédiction correcte, mais surtout de comprendre et expérimenter les étapes fondamentales d’un projet de **machine learning supervisé**.\n",
    "\n",
    "💡 Le machine learning (ML) n'est pas uniquement choisir un modèle, lui donner des données, et obtenir des prédictions.\n",
    "En réalité, un projet ML suit un processus rigoureux, avec plusieurs étapes interdépendantes. Ce processus n’est pas figé, mais il suit une logique que l’on retrouve dans tous les projets, quel que soit le type de données ou de modèle.\n",
    "\n",
    "Ce notebook présente un **pipeline** (démarche structurée), composée de plusieurs **étapes clés**, que l’on retrouve dans la majorité des projets de **machine learning supervisé**.\n",
    "\n",
    "| Étapes                        | Description                                                                                               |\n",
    "|-------------------------------| ----------------------------------------------------------------------------------------------------------|\n",
    "| 1 - Data Loading              | Chargement des données (CSV, base de données, API, etc.)                                                  |\n",
    "| 2 - Exploration               | Analyse des données : types, statistiques, corrélations, visualisations                                   |\n",
    "| 3 - Data preparation          | Suppression des doublons, traitement des valeurs manquantes, création de features (sur tout le dataset)   |\n",
    "| 4 - Train/Test Split          | Séparation des données pour évaluation (généralement 80/20 ou 70/30)                                      |\n",
    "| 5 - Preprocessing             | Encodage, standardisation, etc. (fit sur le train, puis transform sur le test)                            |\n",
    "| 6 - Model Training            | Entraînement du modèle sur les données d’entraînement                                                     |\n",
    "| 7 - Evaluation                | Mesure des performances : MAE, MSE, R², accuracy, confusion matrix, etc..                                 |"
   ]
  },
  {
   "cell_type": "markdown",
   "id": "7ce8e9da",
   "metadata": {},
   "source": [
    "# Import des bibliothèques\n",
    "___"
   ]
  },
  {
   "cell_type": "markdown",
   "id": "471c270b",
   "metadata": {},
   "source": [
    "On commence par importer toutes les bibliothèques dont nous allons avoir besoin dans ce projet.\n",
    "\n",
    "- **Pandas** : pour charger les données, les explorer et les modifier\n",
    "- **NumPy** : pour effectuer des calculs numériques, notamment sur les tableaux\n",
    "- **Matplotlib.pyplot** : pour créer des visualisations (nuages de points, courbes, histogrammes...)\n",
    "- **Scikit-learn (sklearn)** :\n",
    "  - `LinearRegression` : pour entraîner un modèle de régression linéaire\n",
    "  - `train_test_split` : pour séparer les données en jeu d'entraînement et de test\n",
    "  - `mean_squared_error`, `r2_score` : pour évaluer la performance du modèle\n",
    "  - `StandardScaler` : pour standardiser les données si nécessaire\n",
    "- **Joblib** : pour sauvegarder ou recharger un modèle déjà entraîné"
   ]
  },
  {
   "cell_type": "code",
   "execution_count": 1,
   "id": "7a6ded98",
   "metadata": {},
   "outputs": [],
   "source": [
    "import pandas as pd\n",
    "import numpy as np\n",
    "import matplotlib.pyplot as plt\n",
    "from sklearn.linear_model import LinearRegression\n",
    "from sklearn.model_selection import train_test_split\n",
    "from sklearn.metrics import mean_squared_error, r2_score\n",
    "from sklearn.preprocessing import StandardScaler\n",
    "import joblib"
   ]
  },
  {
   "cell_type": "markdown",
   "id": "57d7ebf4",
   "metadata": {},
   "source": [
    "# 1. 📚 Data loading\n",
    "___"
   ]
  },
  {
   "cell_type": "markdown",
   "id": "bde6fdbf",
   "metadata": {},
   "source": [
    "La première étape de tout projet de machine learning consiste à charger les données dans l’environnement de travail. Dans ce notebook, nous utilisons un fichier au format CSV. Pour cela, nous utilisons la fonction read_csv() fournie par la bibliothèque Pandas, qui permet de lire le fichier et de le transformer en **DataFrame**.\n",
    "\n",
    "💡 Les données peuvent provenir de nombreuses sources différentes : des fichiers **Excel** (.xlsx), des fichiers **JSON** (.json), des formats optimisés comme **Parquet** (.parquet), ou encore directement de **BDD** ou d’**API**."
   ]
  },
  {
   "cell_type": "code",
   "execution_count": 2,
   "id": "9686b3b4",
   "metadata": {},
   "outputs": [],
   "source": [
    "df = pd.read_csv(\"data/lille_immobilier.csv\")"
   ]
  },
  {
   "cell_type": "markdown",
   "id": "0dda85f3",
   "metadata": {},
   "source": [
    "# 2. 🔍 Exploration\n",
    "___"
   ]
  },
  {
   "cell_type": "markdown",
   "id": "f5b62b84",
   "metadata": {},
   "source": [
    "### 2.1 Inspection rapide du dataset"
   ]
  },
  {
   "cell_type": "markdown",
   "id": "e4606e91",
   "metadata": {},
   "source": [
    "Une fois les données chargées, il est important de commencer par en examiner un **aperçu rapide** pour s’assurer que le fichier a bien été lu, que les colonnes sont correctement nommées et que les premières lignes ont du sens."
   ]
  },
  {
   "cell_type": "code",
   "execution_count": 3,
   "id": "c36314ee",
   "metadata": {},
   "outputs": [
    {
     "data": {
      "text/html": [
       "<div>\n",
       "<style scoped>\n",
       "    .dataframe tbody tr th:only-of-type {\n",
       "        vertical-align: middle;\n",
       "    }\n",
       "\n",
       "    .dataframe tbody tr th {\n",
       "        vertical-align: top;\n",
       "    }\n",
       "\n",
       "    .dataframe thead th {\n",
       "        text-align: right;\n",
       "    }\n",
       "</style>\n",
       "<table border=\"1\" class=\"dataframe\">\n",
       "  <thead>\n",
       "    <tr style=\"text-align: right;\">\n",
       "      <th></th>\n",
       "      <th>surface_m2</th>\n",
       "      <th>prix_euros</th>\n",
       "    </tr>\n",
       "  </thead>\n",
       "  <tbody>\n",
       "    <tr>\n",
       "      <th>0</th>\n",
       "      <td>57.5</td>\n",
       "      <td>180300</td>\n",
       "    </tr>\n",
       "    <tr>\n",
       "      <th>1</th>\n",
       "      <td>115.1</td>\n",
       "      <td>326100</td>\n",
       "    </tr>\n",
       "    <tr>\n",
       "      <th>2</th>\n",
       "      <td>93.2</td>\n",
       "      <td>296000</td>\n",
       "    </tr>\n",
       "    <tr>\n",
       "      <th>3</th>\n",
       "      <td>79.9</td>\n",
       "      <td>257400</td>\n",
       "    </tr>\n",
       "    <tr>\n",
       "      <th>4</th>\n",
       "      <td>35.6</td>\n",
       "      <td>114300</td>\n",
       "    </tr>\n",
       "  </tbody>\n",
       "</table>\n",
       "</div>"
      ],
      "text/plain": [
       "   surface_m2  prix_euros\n",
       "0        57.5      180300\n",
       "1       115.1      326100\n",
       "2        93.2      296000\n",
       "3        79.9      257400\n",
       "4        35.6      114300"
      ]
     },
     "execution_count": 3,
     "metadata": {},
     "output_type": "execute_result"
    }
   ],
   "source": [
    "df.head()"
   ]
  },
  {
   "cell_type": "markdown",
   "id": "6d8b1eb5",
   "metadata": {},
   "source": [
    "Nous utilisons ensuite `df.info()` pour obtenir un résumé de la structure du DataFrame.  \n",
    "Cette commande permet de vérifier :\n",
    "- le nombre de lignes\n",
    "- le type de chaque colonne (entier, flottant, objet, etc.)\n",
    "- et de repérer la présence de valeurs manquantes."
   ]
  },
  {
   "cell_type": "code",
   "execution_count": 4,
   "id": "eedccbf2",
   "metadata": {},
   "outputs": [
    {
     "name": "stdout",
     "output_type": "stream",
     "text": [
      "<class 'pandas.core.frame.DataFrame'>\n",
      "RangeIndex: 1000 entries, 0 to 999\n",
      "Data columns (total 2 columns):\n",
      " #   Column      Non-Null Count  Dtype  \n",
      "---  ------      --------------  -----  \n",
      " 0   surface_m2  1000 non-null   float64\n",
      " 1   prix_euros  1000 non-null   int64  \n",
      "dtypes: float64(1), int64(1)\n",
      "memory usage: 15.8 KB\n"
     ]
    }
   ],
   "source": [
    "df.info()"
   ]
  },
  {
   "cell_type": "markdown",
   "id": "212b79c1",
   "metadata": {},
   "source": [
    "Nous utilisons ensuite `df.describe()` pour obtenir un résumé statistique des variables numériques.  \n",
    "\n",
    "Cette étape nous permet de mieux comprendre la structure des données : \n",
    "- on regarde les ordres de grandeur\n",
    "- les valeurs typiques (comme la moyenne ou la médiane)\n",
    "- on repère les éventuelles anomalies (comme des minimums ou maximums anormalement élevés).  \n",
    "\n",
    "C’est une façon rapide de valider la cohérence globale du jeu de données avant d’aller plus loin."
   ]
  },
  {
   "cell_type": "code",
   "execution_count": 5,
   "id": "71cd9180",
   "metadata": {},
   "outputs": [
    {
     "data": {
      "text/html": [
       "<div>\n",
       "<style scoped>\n",
       "    .dataframe tbody tr th:only-of-type {\n",
       "        vertical-align: middle;\n",
       "    }\n",
       "\n",
       "    .dataframe tbody tr th {\n",
       "        vertical-align: top;\n",
       "    }\n",
       "\n",
       "    .dataframe thead th {\n",
       "        text-align: right;\n",
       "    }\n",
       "</style>\n",
       "<table border=\"1\" class=\"dataframe\">\n",
       "  <thead>\n",
       "    <tr style=\"text-align: right;\">\n",
       "      <th></th>\n",
       "      <th>surface_m2</th>\n",
       "      <th>prix_euros</th>\n",
       "    </tr>\n",
       "  </thead>\n",
       "  <tbody>\n",
       "    <tr>\n",
       "      <th>count</th>\n",
       "      <td>1000.000000</td>\n",
       "      <td>1000.000000</td>\n",
       "    </tr>\n",
       "    <tr>\n",
       "      <th>mean</th>\n",
       "      <td>69.024700</td>\n",
       "      <td>215191.500000</td>\n",
       "    </tr>\n",
       "    <tr>\n",
       "      <th>std</th>\n",
       "      <td>29.214099</td>\n",
       "      <td>91603.694656</td>\n",
       "    </tr>\n",
       "    <tr>\n",
       "      <th>min</th>\n",
       "      <td>20.500000</td>\n",
       "      <td>58900.000000</td>\n",
       "    </tr>\n",
       "    <tr>\n",
       "      <th>25%</th>\n",
       "      <td>43.575000</td>\n",
       "      <td>133325.000000</td>\n",
       "    </tr>\n",
       "    <tr>\n",
       "      <th>50%</th>\n",
       "      <td>69.650000</td>\n",
       "      <td>217650.000000</td>\n",
       "    </tr>\n",
       "    <tr>\n",
       "      <th>75%</th>\n",
       "      <td>94.425000</td>\n",
       "      <td>289850.000000</td>\n",
       "    </tr>\n",
       "    <tr>\n",
       "      <th>max</th>\n",
       "      <td>120.000000</td>\n",
       "      <td>412600.000000</td>\n",
       "    </tr>\n",
       "  </tbody>\n",
       "</table>\n",
       "</div>"
      ],
      "text/plain": [
       "        surface_m2     prix_euros\n",
       "count  1000.000000    1000.000000\n",
       "mean     69.024700  215191.500000\n",
       "std      29.214099   91603.694656\n",
       "min      20.500000   58900.000000\n",
       "25%      43.575000  133325.000000\n",
       "50%      69.650000  217650.000000\n",
       "75%      94.425000  289850.000000\n",
       "max     120.000000  412600.000000"
      ]
     },
     "execution_count": 5,
     "metadata": {},
     "output_type": "execute_result"
    }
   ],
   "source": [
    "df.describe()"
   ]
  },
  {
   "cell_type": "markdown",
   "id": "b719d91e",
   "metadata": {},
   "source": [
    "### 2.2. Traitement des données manquantes"
   ]
  },
  {
   "cell_type": "markdown",
   "id": "0bc0491c",
   "metadata": {},
   "source": [
    "Pour traiter les valeurs manquantes nous devons choisir une stratégie adaptée : \n",
    "- soit les supprimer si elles sont peu nombreuses et non critiques (`.dropna()`)\n",
    "- soit les remplacer par une valeur par défaut (comme la moyenne ou la médiane), selon le contexte (`.filla()`)"
   ]
  },
  {
   "cell_type": "code",
   "execution_count": 6,
   "id": "440d922a",
   "metadata": {},
   "outputs": [],
   "source": [
    "# Ici nou n'avons pas de valeurs manquantes, les instructions suivantes n'ont aucun effet sur les données (but pédagogique)\n",
    "df = df.dropna()\n",
    "df['surface_m2'] = df['surface_m2'].fillna(df['surface_m2'].median())"
   ]
  },
  {
   "cell_type": "markdown",
   "id": "8f73aed4",
   "metadata": {},
   "source": [
    "### 2.3. Anlayses univariées et bivariées"
   ]
  },
  {
   "cell_type": "markdown",
   "id": "f7e2bcf5",
   "metadata": {},
   "source": [
    "Maintenant que nous avons un aperçu général de notre dataset, nous allons passer à l’analyse exploratoire proprement dite  (EDA : **Exploratory Data Analysis**), en combinant des analyses **univariées** et **bivariées**.\n",
    "\n",
    "L’**analyse univariée** consiste à étudier **une variable à la fois**. Elle permet de :\n",
    "- **comprendre la distribution d’une variable**\n",
    "- **repérer des tendances**\n",
    "- **repérer des valeurs atypiques** (outliers)\n",
    "- **détecter des incohérences** (par exemple : pas de surface négative, prix trop faibles, etc.).\n",
    "\n",
    "L’**analyse bivariée**, quant à elle, vise à **explorer la relation entre deux variables**. Elle permet par exemple de :\n",
    "- visualiser l’**effet d’une variable** (comme la surface) sur une autre (comme le prix)\n",
    "- **identifier des corrélations ou des dépendances**"
   ]
  },
  {
   "cell_type": "markdown",
   "id": "84b72b3f",
   "metadata": {},
   "source": [
    "#### a. Surface des biens immobiliers"
   ]
  },
  {
   "cell_type": "markdown",
   "id": "aafca05e",
   "metadata": {},
   "source": [
    "Nous pouvons visualiser la variable `surface_m2` sous forme d’histogramme, ce qui nous permet de voir comment les biens sont répartis en fonction de leur surface."
   ]
  },
  {
   "cell_type": "code",
   "execution_count": 7,
   "id": "8f13c3ff",
   "metadata": {},
   "outputs": [
    {
     "data": {
      "image/png": "[encoded data removed]",
      "text/plain": [
       "<Figure size 800x500 with 1 Axes>"
      ]
     },
     "metadata": {},
     "output_type": "display_data"
    }
   ],
   "source": [
    "plt.figure(figsize=(8, 5))\n",
    "plt.hist(df['surface_m2'], bins=30, color='orange', edgecolor='w')\n",
    "plt.title(\"Répartition des surfaces\")\n",
    "plt.xlabel(\"Surface (m²)\")\n",
    "plt.ylabel(\"Nombre de biens\")\n",
    "plt.grid(True)\n",
    "plt.show()"
   ]
  },
  {
   "cell_type": "markdown",
   "id": "be4dde55",
   "metadata": {},
   "source": [
    "Après un histogramme qui montre la distribution globale, le boxplot nous donne une synthèse statistique visuelle : médiane, étendue, quartiles, et surtout les valeurs qui sortent du cadre.\n",
    "Les deux graphiques sont complémentaires, surtout quand on veut repérer rapidement d’éventuelles anomalies."
   ]
  },
  {
   "cell_type": "code",
   "execution_count": 8,
   "id": "b907baa0",
   "metadata": {},
   "outputs": [
    {
     "data": {
      "image/png": "[encoded data removed]",
      "text/plain": [
       "<Figure size 600x400 with 1 Axes>"
      ]
     },
     "metadata": {},
     "output_type": "display_data"
    }
   ],
   "source": [
    "plt.figure(figsize=(6, 4))\n",
    "plt.boxplot(df['surface_m2'], vert=False)\n",
    "plt.title(\"Boxplot des surfaces\")\n",
    "plt.xlabel(\"Surface (m²)\")\n",
    "plt.grid(True)\n",
    "plt.show()"
   ]
  },
  {
   "cell_type": "markdown",
   "id": "b14a5cf7",
   "metadata": {},
   "source": [
    "#### b. Prix des biens immobiliers"
   ]
  },
  {
   "cell_type": "markdown",
   "id": "dad68582",
   "metadata": {},
   "source": [
    "Nous visualisons ici la variable `prix_euros` à l’aide d’un histogramme, ce qui permet de comprendre comment les biens sont répartis selon leur prix."
   ]
  },
  {
   "cell_type": "code",
   "execution_count": 9,
   "id": "cb4fdd42",
   "metadata": {},
   "outputs": [
    {
     "data": {
      "image/png": "[encoded data removed]",
      "text/plain": [
       "<Figure size 800x500 with 1 Axes>"
      ]
     },
     "metadata": {},
     "output_type": "display_data"
    }
   ],
   "source": [
    "plt.figure(figsize=(8, 5))\n",
    "plt.hist(df['prix_euros'], bins=30, color='pink', edgecolor='w')\n",
    "plt.title(\"Répartition des prix (€)\")\n",
    "plt.xlabel(\"Surface (m²)\")\n",
    "plt.ylabel(\"Nombre de biens\")\n",
    "plt.grid(True)\n",
    "plt.show()"
   ]
  },
  {
   "cell_type": "code",
   "execution_count": 10,
   "id": "f11d05a7",
   "metadata": {},
   "outputs": [
    {
     "data": {
      "image/png": "[encoded data removed]",
      "text/plain": [
       "<Figure size 600x400 with 1 Axes>"
      ]
     },
     "metadata": {},
     "output_type": "display_data"
    }
   ],
   "source": [
    "plt.figure(figsize=(6, 4))\n",
    "plt.boxplot(df['prix_euros'], vert=False)\n",
    "plt.title(\"Boxplot des prix\")\n",
    "plt.xlabel(\"Surface (m²)\")\n",
    "plt.grid(True)\n",
    "plt.show()"
   ]
  },
  {
   "cell_type": "markdown",
   "id": "92581486",
   "metadata": {},
   "source": [
    "#### c. Relation entre la surface et le prix des biens"
   ]
  },
  {
   "cell_type": "markdown",
   "id": "ebd9283f",
   "metadata": {},
   "source": [
    "Un **nuage de points (scatter plot)** permet de visualiser chaque bien comme une paire (surface, prix). Ce type de graphique permet de :\n",
    "- identifier des tendances générales\n",
    "- identifier des des groupements de données\n",
    "- identifier d’éventuelles relations linéaires\n",
    "\n",
    "Dans notre cas, on observe visuellement qu’une augmentation de la surface semble généralement associée à une augmentation du prix. \n",
    "\n",
    "⚠️ Il ne s’agit ici que d'une analyse bivariée visuelle. Ceci constitue une première étape avant d’évaluer plus formellement cette relation à l’aide d’un modèle ou d’un indicateur statistique."
   ]
  },
  {
   "cell_type": "code",
   "execution_count": 11,
   "id": "6a6489b3",
   "metadata": {},
   "outputs": [
    {
     "data": {
      "image/png": "[encoded data removed]",
      "text/plain": [
       "<Figure size 640x480 with 1 Axes>"
      ]
     },
     "metadata": {},
     "output_type": "display_data"
    }
   ],
   "source": [
    "plt.scatter(df['surface_m2'], df['prix_euros'], color='blue', alpha=0.5)\n",
    "plt.title(\"Relation surface/prix (après nettoyage)\")\n",
    "plt.xlabel(\"Surface (m²)\")\n",
    "plt.ylabel(\"Prix (€)\")\n",
    "plt.grid(True)\n",
    "plt.show()"
   ]
  },
  {
   "cell_type": "markdown",
   "id": "18c4ccf3",
   "metadata": {},
   "source": [
    "#### d. Correlations"
   ]
  },
  {
   "cell_type": "markdown",
   "id": "881f6054",
   "metadata": {},
   "source": [
    "Afin d’explorer les **relations linéaires** entre les variables de notre jeu de données, nous calculons la matrice de corrélation de Pearson. Cette méthode permet d’estimer dans quelle mesure deux variables numériques **varient ensemble**.\n",
    "\n",
    "La matrice ci-dessous met en évidence une corrélation très forte entre la surface en mètres carrés (surface_m2) et le prix en euros (prix_euros)."
   ]
  },
  {
   "cell_type": "code",
   "execution_count": 12,
   "id": "f67031cd",
   "metadata": {},
   "outputs": [
    {
     "data": {
      "text/html": [
       "<div>\n",
       "<style scoped>\n",
       "    .dataframe tbody tr th:only-of-type {\n",
       "        vertical-align: middle;\n",
       "    }\n",
       "\n",
       "    .dataframe tbody tr th {\n",
       "        vertical-align: top;\n",
       "    }\n",
       "\n",
       "    .dataframe thead th {\n",
       "        text-align: right;\n",
       "    }\n",
       "</style>\n",
       "<table border=\"1\" class=\"dataframe\">\n",
       "  <thead>\n",
       "    <tr style=\"text-align: right;\">\n",
       "      <th></th>\n",
       "      <th>surface_m2</th>\n",
       "      <th>prix_euros</th>\n",
       "    </tr>\n",
       "  </thead>\n",
       "  <tbody>\n",
       "    <tr>\n",
       "      <th>surface_m2</th>\n",
       "      <td>1.000000</td>\n",
       "      <td>0.987126</td>\n",
       "    </tr>\n",
       "    <tr>\n",
       "      <th>prix_euros</th>\n",
       "      <td>0.987126</td>\n",
       "      <td>1.000000</td>\n",
       "    </tr>\n",
       "  </tbody>\n",
       "</table>\n",
       "</div>"
      ],
      "text/plain": [
       "            surface_m2  prix_euros\n",
       "surface_m2    1.000000    0.987126\n",
       "prix_euros    0.987126    1.000000"
      ]
     },
     "execution_count": 12,
     "metadata": {},
     "output_type": "execute_result"
    }
   ],
   "source": [
    "df.corr()"
   ]
  },
  {
   "cell_type": "markdown",
   "id": "a54f96cb",
   "metadata": {},
   "source": [
    "# 3. Data preparation\n",
    "___"
   ]
  },
  {
   "cell_type": "markdown",
   "id": "46b3c71e",
   "metadata": {},
   "source": [
    "### Détection des valeurs aberrantes (outliers)"
   ]
  },
  {
   "cell_type": "markdown",
   "id": "e8e7810f",
   "metadata": {},
   "source": [
    "Avant d’entraîner un modèle, il est important d’identifier les **valeurs aberrantes**, c’est-à-dire des données qui sont très éloignées des autres et qui pourraient **fausser les résultats**.\n",
    "\n",
    "Ici, nous utilisons une méthode simple et classique basée sur l’**écart interquartile (IQR)**."
   ]
  },
  {
   "cell_type": "code",
   "execution_count": 13,
   "id": "3c24eda6",
   "metadata": {},
   "outputs": [
    {
     "name": "stdout",
     "output_type": "stream",
     "text": [
      "Outliers surface :\n",
      " Empty DataFrame\n",
      "Columns: [surface_m2, prix_euros]\n",
      "Index: [] \n",
      "\n",
      "Outliers prix :\n",
      " Empty DataFrame\n",
      "Columns: [surface_m2, prix_euros]\n",
      "Index: [] \n",
      "\n"
     ]
    }
   ],
   "source": [
    "def detect_outliers(df, column):\n",
    "    # Calcul du 1er quartile (25 % des valeurs les plus basses)\n",
    "    Q1 = df[column].quantile(0.25)\n",
    "    \n",
    "    # Calcul du 3e quartile (75 % des valeurs les plus basses)\n",
    "    Q3 = df[column].quantile(0.75)\n",
    "    \n",
    "    # Calcul de l'écart interquartile (zone \"normale\" des données)\n",
    "    IQR = Q3 - Q1\n",
    "    \n",
    "    # Définition de la borne inférieure (valeurs trop basses)\n",
    "    lower_bound = Q1 - 1.5 * IQR\n",
    "    \n",
    "    # Définition de la borne supérieure (valeurs trop hautes)\n",
    "    upper_bound = Q3 + 1.5 * IQR\n",
    "    \n",
    "    # Retourne un tuple contenant :\n",
    "    # - la borne inférieure des valeurs acceptables,\n",
    "    # - la borne supérieure des valeurs acceptables,\n",
    "    # - les lignes du DataFrame où les valeurs de la colonne spécifiée sont considérées comme des outliers (hors bornes)\n",
    "    return (\n",
    "        lower_bound, \n",
    "        upper_bound, \n",
    "        df[(df[column] < lower_bound) | (df[column] > upper_bound)]\n",
    "        )\n",
    "\n",
    "print(\"Outliers surface :\\n\", detect_outliers(df, \"surface_m2\")[2], \"\\n\")\n",
    "print(\"Outliers prix :\\n\", detect_outliers(df, \"prix_euros\")[2], \"\\n\")"
   ]
  },
  {
   "cell_type": "code",
   "execution_count": 14,
   "id": "f91c6533",
   "metadata": {},
   "outputs": [],
   "source": [
    "# Si nécessaire, exclure les outliers pour des variable spécifiques\n",
    "# lower_bound, upper_bound, _ = detect_outliers(df, \"surface_m2\")\n",
    "#df = df[~((df[\"surface_m2\"] < lower_bound) | (df[\"surface_m2\"] > upper_bound))]"
   ]
  },
  {
   "cell_type": "markdown",
   "id": "c78360ca",
   "metadata": {},
   "source": [
    "# 4. Train/Test split\n",
    "___"
   ]
  },
  {
   "cell_type": "markdown",
   "id": "159c745f",
   "metadata": {},
   "source": [
    "Avant d’entraîner notre modèle de régression, il est essentiel de séparer nos données en deux ensembles distincts :\n",
    "- un **ensemble d’entraînement** (**train set**), qui sera utilisé pour **ajuster le modèle**,\n",
    "- un **ensemble de test** (**test set**), qui servira à **évaluer les performances du modèle sur des données jamais vues**.\n",
    "\n",
    "Dans notre cas, nous avons choisi une répartition classique de 80 % pour l’entraînement et 20 % pour le test.\n",
    "Cette séparation permet de vérifier si notre modèle est capable de généraliser à de nouvelles données, et non simplement de mémoriser les exemples qu’il a vus."
   ]
  },
  {
   "cell_type": "code",
   "execution_count": 15,
   "id": "c682b237",
   "metadata": {},
   "outputs": [],
   "source": [
    "# On extrait la variable explicative 'surface_m2' en tant que matrice 2D (nécessaire pour scikit-learn)\n",
    "X = df[['surface_m2']].values   # shape : (n_samples, 1)\n",
    "\n",
    "# On extrait la variable cible 'prix_euros' en tant que matrice 2\n",
    "y = df[['prix_euros']].values   # shape : (n_samples, 1)\n",
    "\n",
    "# On divise les données en un ensemble d'entraînement (80%) et un ensemble de test (20%)\n",
    "# random_state=42 permet d'assurer la reproductibilité du découpage\n",
    "X_train, X_test, y_train, y_test = train_test_split(X, y, test_size=0.2, random_state=42)"
   ]
  },
  {
   "cell_type": "markdown",
   "id": "b637ee99",
   "metadata": {},
   "source": [
    "# 5. Preprocessing\n",
    "___"
   ]
  },
  {
   "cell_type": "markdown",
   "id": "69ce5b63",
   "metadata": {},
   "source": [
    "Avant d’entraîner un modèle, il est important de **mettre toutes les variables à la même échelle**.  \n",
    "La standardisation consiste à transformer les données pour qu’elles aient une moyenne de 0 et un écart-type de 1.\n",
    "\n",
    "Cela permet au modèle d’apprendre plus efficacement, surtout quand les variables n’ont pas les mêmes unités (par exemple : surface en m², prix en euros).\n",
    "\n",
    "On utilise ici le `StandardScaler` pour **apprendre la moyenne et l’écart-type** sur les données d’entraînement, puis on applique cette transformation aux données d’entraînement et de test."
   ]
  },
  {
   "cell_type": "code",
   "execution_count": 16,
   "id": "f571d79a",
   "metadata": {},
   "outputs": [],
   "source": [
    "scaler_X = StandardScaler() # Initialisation d’un standardiseur pour la variable explicative X\n",
    "scaler_y = StandardScaler() # Initialisation d’un standardiseur pour la variable cible y\n",
    "\n",
    "# Apprentissage des paramètres (moyenne, écart-type) sur X_train et transformation des données\n",
    "X_train_scaled = scaler_X.fit_transform(X_train)\n",
    "\n",
    "# Apprentissage des paramètres sur y_train et transformation des données\n",
    "y_train_scaled = scaler_y.fit_transform(y_train)\n",
    "\n",
    "# Transformation de X_test à l’aide des paramètres appris sur X_train (pas de fit ici)\n",
    "X_test_scaled = scaler_X.transform(X_test)\n",
    "\n",
    "# Transformation de y_test à l’aide des paramètres appris sur y_train (pas de fit ici non plus)\n",
    "y_test_scaled = scaler_y.transform(y_test)"
   ]
  },
  {
   "cell_type": "markdown",
   "id": "2392b9ea",
   "metadata": {},
   "source": [
    "# 6. Model training\n",
    "___"
   ]
  },
  {
   "cell_type": "markdown",
   "id": "ea80c1ab",
   "metadata": {},
   "source": [
    "### a. Apprentissage"
   ]
  },
  {
   "cell_type": "markdown",
   "id": "6066e7ed",
   "metadata": {},
   "source": [
    "Nous allons maintenant **entraîner** notre modèle de régression linéaire **à partir des données d’entraînement** préalablement standardisées.  \n",
    "Le modèle va apprendre la **relation** entre la surface du bien (`X_train_scaled`) et son prix (`y_train_scaled`) en ajustant une droite qui minimise l’erreur quadratique (**MSE**).\n",
    "\n",
    "Cette étape est essentielle : c’est ici que le modèle **apprend** à prédire en se basant sur les exemples fournis."
   ]
  },
  {
   "cell_type": "code",
   "execution_count": 17,
   "id": "84da51ec",
   "metadata": {},
   "outputs": [
    {
     "data": {
      "text/html": [
       "<style>#sk-container-id-1 {\n",
       "  /* Definition of color scheme common for light and dark mode */\n",
       "  --sklearn-color-text: #000;\n",
       "  --sklearn-color-text-muted: #666;\n",
       "  --sklearn-color-line: gray;\n",
       "  /* Definition of color scheme for unfitted estimators */\n",
       "  --sklearn-color-unfitted-level-0: #fff5e6;\n",
       "  --sklearn-color-unfitted-level-1: #f6e4d2;\n",
       "  --sklearn-color-unfitted-level-2: #ffe0b3;\n",
       "  --sklearn-color-unfitted-level-3: chocolate;\n",
       "  /* Definition of color scheme for fitted estimators */\n",
       "  --sklearn-color-fitted-level-0: #f0f8ff;\n",
       "  --sklearn-color-fitted-level-1: #d4ebff;\n",
       "  --sklearn-color-fitted-level-2: #b3dbfd;\n",
       "  --sklearn-color-fitted-level-3: cornflowerblue;\n",
       "\n",
       "  /* Specific color for light theme */\n",
       "  --sklearn-color-text-on-default-background: var(--sg-text-color, var(--theme-code-foreground, var(--jp-content-font-color1, black)));\n",
       "  --sklearn-color-background: var(--sg-background-color, var(--theme-background, var(--jp-layout-color0, white)));\n",
       "  --sklearn-color-border-box: var(--sg-text-color, var(--theme-code-foreground, var(--jp-content-font-color1, black)));\n",
       "  --sklearn-color-icon: #696969;\n",
       "\n",
       "  @media (prefers-color-scheme: dark) {\n",
       "    /* Redefinition of color scheme for dark theme */\n",
       "    --sklearn-color-text-on-default-background: var(--sg-text-color, var(--theme-code-foreground, var(--jp-content-font-color1, white)));\n",
       "    --sklearn-color-background: var(--sg-background-color, var(--theme-background, var(--jp-layout-color0, #111)));\n",
       "    --sklearn-color-border-box: var(--sg-text-color, var(--theme-code-foreground, var(--jp-content-font-color1, white)));\n",
       "    --sklearn-color-icon: #878787;\n",
       "  }\n",
       "}\n",
       "\n",
       "#sk-container-id-1 {\n",
       "  color: var(--sklearn-color-text);\n",
       "}\n",
       "\n",
       "#sk-container-id-1 pre {\n",
       "  padding: 0;\n",
       "}\n",
       "\n",
       "#sk-container-id-1 input.sk-hidden--visually {\n",
       "  border: 0;\n",
       "  clip: rect(1px 1px 1px 1px);\n",
       "  clip: rect(1px, 1px, 1px, 1px);\n",
       "  height: 1px;\n",
       "  margin: -1px;\n",
       "  overflow: hidden;\n",
       "  padding: 0;\n",
       "  position: absolute;\n",
       "  width: 1px;\n",
       "}\n",
       "\n",
       "#sk-container-id-1 div.sk-dashed-wrapped {\n",
       "  border: 1px dashed var(--sklearn-color-line);\n",
       "  margin: 0 0.4em 0.5em 0.4em;\n",
       "  box-sizing: border-box;\n",
       "  padding-bottom: 0.4em;\n",
       "  background-color: var(--sklearn-color-background);\n",
       "}\n",
       "\n",
       "#sk-container-id-1 div.sk-container {\n",
       "  /* jupyter's `normalize.less` sets `[hidden] { display: none; }`\n",
       "     but bootstrap.min.css set `[hidden] { display: none !important; }`\n",
       "     so we also need the `!important` here to be able to override the\n",
       "     default hidden behavior on the sphinx rendered scikit-learn.org.\n",
       "     See: https://github.com/scikit-learn/scikit-learn/issues/21755 */\n",
       "  display: inline-block !important;\n",
       "  position: relative;\n",
       "}\n",
       "\n",
       "#sk-container-id-1 div.sk-text-repr-fallback {\n",
       "  display: none;\n",
       "}\n",
       "\n",
       "div.sk-parallel-item,\n",
       "div.sk-serial,\n",
       "div.sk-item {\n",
       "  /* draw centered vertical line to link estimators */\n",
       "  background-image: linear-gradient(var(--sklearn-color-text-on-default-background), var(--sklearn-color-text-on-default-background));\n",
       "  background-size: 2px 100%;\n",
       "  background-repeat: no-repeat;\n",
       "  background-position: center center;\n",
       "}\n",
       "\n",
       "/* Parallel-specific style estimator block */\n",
       "\n",
       "#sk-container-id-1 div.sk-parallel-item::after {\n",
       "  content: \"\";\n",
       "  width: 100%;\n",
       "  border-bottom: 2px solid var(--sklearn-color-text-on-default-background);\n",
       "  flex-grow: 1;\n",
       "}\n",
       "\n",
       "#sk-container-id-1 div.sk-parallel {\n",
       "  display: flex;\n",
       "  align-items: stretch;\n",
       "  justify-content: center;\n",
       "  background-color: var(--sklearn-color-background);\n",
       "  position: relative;\n",
       "}\n",
       "\n",
       "#sk-container-id-1 div.sk-parallel-item {\n",
       "  display: flex;\n",
       "  flex-direction: column;\n",
       "}\n",
       "\n",
       "#sk-container-id-1 div.sk-parallel-item:first-child::after {\n",
       "  align-self: flex-end;\n",
       "  width: 50%;\n",
       "}\n",
       "\n",
       "#sk-container-id-1 div.sk-parallel-item:last-child::after {\n",
       "  align-self: flex-start;\n",
       "  width: 50%;\n",
       "}\n",
       "\n",
       "#sk-container-id-1 div.sk-parallel-item:only-child::after {\n",
       "  width: 0;\n",
       "}\n",
       "\n",
       "/* Serial-specific style estimator block */\n",
       "\n",
       "#sk-container-id-1 div.sk-serial {\n",
       "  display: flex;\n",
       "  flex-direction: column;\n",
       "  align-items: center;\n",
       "  background-color: var(--sklearn-color-background);\n",
       "  padding-right: 1em;\n",
       "  padding-left: 1em;\n",
       "}\n",
       "\n",
       "\n",
       "/* Toggleable style: style used for estimator/Pipeline/ColumnTransformer box that is\n",
       "clickable and can be expanded/collapsed.\n",
       "- Pipeline and ColumnTransformer use this feature and define the default style\n",
       "- Estimators will overwrite some part of the style using the `sk-estimator` class\n",
       "*/\n",
       "\n",
       "/* Pipeline and ColumnTransformer style (default) */\n",
       "\n",
       "#sk-container-id-1 div.sk-toggleable {\n",
       "  /* Default theme specific background. It is overwritten whether we have a\n",
       "  specific estimator or a Pipeline/ColumnTransformer */\n",
       "  background-color: var(--sklearn-color-background);\n",
       "}\n",
       "\n",
       "/* Toggleable label */\n",
       "#sk-container-id-1 label.sk-toggleable__label {\n",
       "  cursor: pointer;\n",
       "  display: flex;\n",
       "  width: 100%;\n",
       "  margin-bottom: 0;\n",
       "  padding: 0.5em;\n",
       "  box-sizing: border-box;\n",
       "  text-align: center;\n",
       "  align-items: start;\n",
       "  justify-content: space-between;\n",
       "  gap: 0.5em;\n",
       "}\n",
       "\n",
       "#sk-container-id-1 label.sk-toggleable__label .caption {\n",
       "  font-size: 0.6rem;\n",
       "  font-weight: lighter;\n",
       "  color: var(--sklearn-color-text-muted);\n",
       "}\n",
       "\n",
       "#sk-container-id-1 label.sk-toggleable__label-arrow:before {\n",
       "  /* Arrow on the left of the label */\n",
       "  content: \"▸\";\n",
       "  float: left;\n",
       "  margin-right: 0.25em;\n",
       "  color: var(--sklearn-color-icon);\n",
       "}\n",
       "\n",
       "#sk-container-id-1 label.sk-toggleable__label-arrow:hover:before {\n",
       "  color: var(--sklearn-color-text);\n",
       "}\n",
       "\n",
       "/* Toggleable content - dropdown */\n",
       "\n",
       "#sk-container-id-1 div.sk-toggleable__content {\n",
       "  max-height: 0;\n",
       "  max-width: 0;\n",
       "  overflow: hidden;\n",
       "  text-align: left;\n",
       "  /* unfitted */\n",
       "  background-color: var(--sklearn-color-unfitted-level-0);\n",
       "}\n",
       "\n",
       "#sk-container-id-1 div.sk-toggleable__content.fitted {\n",
       "  /* fitted */\n",
       "  background-color: var(--sklearn-color-fitted-level-0);\n",
       "}\n",
       "\n",
       "#sk-container-id-1 div.sk-toggleable__content pre {\n",
       "  margin: 0.2em;\n",
       "  border-radius: 0.25em;\n",
       "  color: var(--sklearn-color-text);\n",
       "  /* unfitted */\n",
       "  background-color: var(--sklearn-color-unfitted-level-0);\n",
       "}\n",
       "\n",
       "#sk-container-id-1 div.sk-toggleable__content.fitted pre {\n",
       "  /* unfitted */\n",
       "  background-color: var(--sklearn-color-fitted-level-0);\n",
       "}\n",
       "\n",
       "#sk-container-id-1 input.sk-toggleable__control:checked~div.sk-toggleable__content {\n",
       "  /* Expand drop-down */\n",
       "  max-height: 200px;\n",
       "  max-width: 100%;\n",
       "  overflow: auto;\n",
       "}\n",
       "\n",
       "#sk-container-id-1 input.sk-toggleable__control:checked~label.sk-toggleable__label-arrow:before {\n",
       "  content: \"▾\";\n",
       "}\n",
       "\n",
       "/* Pipeline/ColumnTransformer-specific style */\n",
       "\n",
       "#sk-container-id-1 div.sk-label input.sk-toggleable__control:checked~label.sk-toggleable__label {\n",
       "  color: var(--sklearn-color-text);\n",
       "  background-color: var(--sklearn-color-unfitted-level-2);\n",
       "}\n",
       "\n",
       "#sk-container-id-1 div.sk-label.fitted input.sk-toggleable__control:checked~label.sk-toggleable__label {\n",
       "  background-color: var(--sklearn-color-fitted-level-2);\n",
       "}\n",
       "\n",
       "/* Estimator-specific style */\n",
       "\n",
       "/* Colorize estimator box */\n",
       "#sk-container-id-1 div.sk-estimator input.sk-toggleable__control:checked~label.sk-toggleable__label {\n",
       "  /* unfitted */\n",
       "  background-color: var(--sklearn-color-unfitted-level-2);\n",
       "}\n",
       "\n",
       "#sk-container-id-1 div.sk-estimator.fitted input.sk-toggleable__control:checked~label.sk-toggleable__label {\n",
       "  /* fitted */\n",
       "  background-color: var(--sklearn-color-fitted-level-2);\n",
       "}\n",
       "\n",
       "#sk-container-id-1 div.sk-label label.sk-toggleable__label,\n",
       "#sk-container-id-1 div.sk-label label {\n",
       "  /* The background is the default theme color */\n",
       "  color: var(--sklearn-color-text-on-default-background);\n",
       "}\n",
       "\n",
       "/* On hover, darken the color of the background */\n",
       "#sk-container-id-1 div.sk-label:hover label.sk-toggleable__label {\n",
       "  color: var(--sklearn-color-text);\n",
       "  background-color: var(--sklearn-color-unfitted-level-2);\n",
       "}\n",
       "\n",
       "/* Label box, darken color on hover, fitted */\n",
       "#sk-container-id-1 div.sk-label.fitted:hover label.sk-toggleable__label.fitted {\n",
       "  color: var(--sklearn-color-text);\n",
       "  background-color: var(--sklearn-color-fitted-level-2);\n",
       "}\n",
       "\n",
       "/* Estimator label */\n",
       "\n",
       "#sk-container-id-1 div.sk-label label {\n",
       "  font-family: monospace;\n",
       "  font-weight: bold;\n",
       "  display: inline-block;\n",
       "  line-height: 1.2em;\n",
       "}\n",
       "\n",
       "#sk-container-id-1 div.sk-label-container {\n",
       "  text-align: center;\n",
       "}\n",
       "\n",
       "/* Estimator-specific */\n",
       "#sk-container-id-1 div.sk-estimator {\n",
       "  font-family: monospace;\n",
       "  border: 1px dotted var(--sklearn-color-border-box);\n",
       "  border-radius: 0.25em;\n",
       "  box-sizing: border-box;\n",
       "  margin-bottom: 0.5em;\n",
       "  /* unfitted */\n",
       "  background-color: var(--sklearn-color-unfitted-level-0);\n",
       "}\n",
       "\n",
       "#sk-container-id-1 div.sk-estimator.fitted {\n",
       "  /* fitted */\n",
       "  background-color: var(--sklearn-color-fitted-level-0);\n",
       "}\n",
       "\n",
       "/* on hover */\n",
       "#sk-container-id-1 div.sk-estimator:hover {\n",
       "  /* unfitted */\n",
       "  background-color: var(--sklearn-color-unfitted-level-2);\n",
       "}\n",
       "\n",
       "#sk-container-id-1 div.sk-estimator.fitted:hover {\n",
       "  /* fitted */\n",
       "  background-color: var(--sklearn-color-fitted-level-2);\n",
       "}\n",
       "\n",
       "/* Specification for estimator info (e.g. \"i\" and \"?\") */\n",
       "\n",
       "/* Common style for \"i\" and \"?\" */\n",
       "\n",
       ".sk-estimator-doc-link,\n",
       "a:link.sk-estimator-doc-link,\n",
       "a:visited.sk-estimator-doc-link {\n",
       "  float: right;\n",
       "  font-size: smaller;\n",
       "  line-height: 1em;\n",
       "  font-family: monospace;\n",
       "  background-color: var(--sklearn-color-background);\n",
       "  border-radius: 1em;\n",
       "  height: 1em;\n",
       "  width: 1em;\n",
       "  text-decoration: none !important;\n",
       "  margin-left: 0.5em;\n",
       "  text-align: center;\n",
       "  /* unfitted */\n",
       "  border: var(--sklearn-color-unfitted-level-1) 1pt solid;\n",
       "  color: var(--sklearn-color-unfitted-level-1);\n",
       "}\n",
       "\n",
       ".sk-estimator-doc-link.fitted,\n",
       "a:link.sk-estimator-doc-link.fitted,\n",
       "a:visited.sk-estimator-doc-link.fitted {\n",
       "  /* fitted */\n",
       "  border: var(--sklearn-color-fitted-level-1) 1pt solid;\n",
       "  color: var(--sklearn-color-fitted-level-1);\n",
       "}\n",
       "\n",
       "/* On hover */\n",
       "div.sk-estimator:hover .sk-estimator-doc-link:hover,\n",
       ".sk-estimator-doc-link:hover,\n",
       "div.sk-label-container:hover .sk-estimator-doc-link:hover,\n",
       ".sk-estimator-doc-link:hover {\n",
       "  /* unfitted */\n",
       "  background-color: var(--sklearn-color-unfitted-level-3);\n",
       "  color: var(--sklearn-color-background);\n",
       "  text-decoration: none;\n",
       "}\n",
       "\n",
       "div.sk-estimator.fitted:hover .sk-estimator-doc-link.fitted:hover,\n",
       ".sk-estimator-doc-link.fitted:hover,\n",
       "div.sk-label-container:hover .sk-estimator-doc-link.fitted:hover,\n",
       ".sk-estimator-doc-link.fitted:hover {\n",
       "  /* fitted */\n",
       "  background-color: var(--sklearn-color-fitted-level-3);\n",
       "  color: var(--sklearn-color-background);\n",
       "  text-decoration: none;\n",
       "}\n",
       "\n",
       "/* Span, style for the box shown on hovering the info icon */\n",
       ".sk-estimator-doc-link span {\n",
       "  display: none;\n",
       "  z-index: 9999;\n",
       "  position: relative;\n",
       "  font-weight: normal;\n",
       "  right: .2ex;\n",
       "  padding: .5ex;\n",
       "  margin: .5ex;\n",
       "  width: min-content;\n",
       "  min-width: 20ex;\n",
       "  max-width: 50ex;\n",
       "  color: var(--sklearn-color-text);\n",
       "  box-shadow: 2pt 2pt 4pt #999;\n",
       "  /* unfitted */\n",
       "  background: var(--sklearn-color-unfitted-level-0);\n",
       "  border: .5pt solid var(--sklearn-color-unfitted-level-3);\n",
       "}\n",
       "\n",
       ".sk-estimator-doc-link.fitted span {\n",
       "  /* fitted */\n",
       "  background: var(--sklearn-color-fitted-level-0);\n",
       "  border: var(--sklearn-color-fitted-level-3);\n",
       "}\n",
       "\n",
       ".sk-estimator-doc-link:hover span {\n",
       "  display: block;\n",
       "}\n",
       "\n",
       "/* \"?\"-specific style due to the `<a>` HTML tag */\n",
       "\n",
       "#sk-container-id-1 a.estimator_doc_link {\n",
       "  float: right;\n",
       "  font-size: 1rem;\n",
       "  line-height: 1em;\n",
       "  font-family: monospace;\n",
       "  background-color: var(--sklearn-color-background);\n",
       "  border-radius: 1rem;\n",
       "  height: 1rem;\n",
       "  width: 1rem;\n",
       "  text-decoration: none;\n",
       "  /* unfitted */\n",
       "  color: var(--sklearn-color-unfitted-level-1);\n",
       "  border: var(--sklearn-color-unfitted-level-1) 1pt solid;\n",
       "}\n",
       "\n",
       "#sk-container-id-1 a.estimator_doc_link.fitted {\n",
       "  /* fitted */\n",
       "  border: var(--sklearn-color-fitted-level-1) 1pt solid;\n",
       "  color: var(--sklearn-color-fitted-level-1);\n",
       "}\n",
       "\n",
       "/* On hover */\n",
       "#sk-container-id-1 a.estimator_doc_link:hover {\n",
       "  /* unfitted */\n",
       "  background-color: var(--sklearn-color-unfitted-level-3);\n",
       "  color: var(--sklearn-color-background);\n",
       "  text-decoration: none;\n",
       "}\n",
       "\n",
       "#sk-container-id-1 a.estimator_doc_link.fitted:hover {\n",
       "  /* fitted */\n",
       "  background-color: var(--sklearn-color-fitted-level-3);\n",
       "}\n",
       "</style><div id=\"sk-container-id-1\" class=\"sk-top-container\"><div class=\"sk-text-repr-fallback\"><pre>LinearRegression()</pre><b>In a Jupyter environment, please rerun this cell to show the HTML representation or trust the notebook. <br />On GitHub, the HTML representation is unable to render, please try loading this page with nbviewer.org.</b></div><div class=\"sk-container\" hidden><div class=\"sk-item\"><div class=\"sk-estimator fitted sk-toggleable\"><input class=\"sk-toggleable__control sk-hidden--visually\" id=\"sk-estimator-id-1\" type=\"checkbox\" checked><label for=\"sk-estimator-id-1\" class=\"sk-toggleable__label fitted sk-toggleable__label-arrow\"><div><div>LinearRegression</div></div><div><a class=\"sk-estimator-doc-link fitted\" rel=\"noreferrer\" target=\"_blank\" href=\"https://scikit-learn.org/1.6/modules/generated/sklearn.linear_model.LinearRegression.html\">?<span>Documentation for LinearRegression</span></a><span class=\"sk-estimator-doc-link fitted\">i<span>Fitted</span></span></div></label><div class=\"sk-toggleable__content fitted\"><pre>LinearRegression()</pre></div> </div></div></div></div>"
      ],
      "text/plain": [
       "LinearRegression()"
      ]
     },
     "execution_count": 17,
     "metadata": {},
     "output_type": "execute_result"
    }
   ],
   "source": [
    "model = LinearRegression()\n",
    "model.fit(X_train_scaled, y_train_scaled)"
   ]
  },
  {
   "cell_type": "markdown",
   "id": "48e2174b",
   "metadata": {},
   "source": [
    "### b. Visualisation du modèle entraîné"
   ]
  },
  {
   "cell_type": "code",
   "execution_count": 18,
   "id": "a1c38c88",
   "metadata": {},
   "outputs": [
    {
     "data": {
      "image/png": "[encoded data removed]",
      "text/plain": [
       "<Figure size 640x480 with 1 Axes>"
      ]
     },
     "metadata": {},
     "output_type": "display_data"
    }
   ],
   "source": [
    "y_train_pred_scaled = model.predict(X_train_scaled)\n",
    "plt.scatter(X_train_scaled, y_train_scaled, color='blue', label='Train')\n",
    "plt.plot(X_train_scaled, y_train_pred_scaled, color='red', label='Régression')\n",
    "plt.title(\"Régression linéaire standardisée\")\n",
    "plt.xlabel(\"Surface (standardisée)\")\n",
    "plt.ylabel(\"Prix (standardisé)\")\n",
    "plt.legend()\n",
    "plt.grid(True)\n",
    "plt.show()"
   ]
  },
  {
   "cell_type": "markdown",
   "id": "da62e50e",
   "metadata": {},
   "source": [
    "# 7. Evaluation\n",
    "___"
   ]
  },
  {
   "cell_type": "markdown",
   "id": "628783fb",
   "metadata": {},
   "source": [
    "Après l’entraînement il est crucial d’évaluer le modèle sur un jeu de données qu’il n’a jamais vu : c’est ce qu’on appelle le **jeu de test**.  \n",
    "L’objectif est de mesurer sa performance c'est à dire sa **capacité du modèle à généraliser** ses prédictions à de nouvelles données réelles.\n",
    "On affiche ici :\n",
    "- la **MSE** (Mean Squared Error) : l’erreur quadratique moyenne entre les prédictions et les vraies valeurs\n",
    "- la **RMSE** (Root Mean Squared Error) : la racine carrée de la MSE, plus interprétable car dans la même unité que la variable cible\n",
    "- le **R² score** : appelé aussi **coefficient de détermination**, est un indicateur de performance compris entre 0 et 1, qui mesure la proportion de la variance expliquée par le modèle"
   ]
  },
  {
   "cell_type": "markdown",
   "id": "9acbc96c",
   "metadata": {},
   "source": [
    "### a. Scores"
   ]
  },
  {
   "cell_type": "code",
   "execution_count": 19,
   "id": "5908473f",
   "metadata": {},
   "outputs": [
    {
     "name": "stdout",
     "output_type": "stream",
     "text": [
      "MSE : 0.01995511876823554\n",
      "RMSE : 0.1412625879992135\n",
      "R² : 0.9797219792359874\n"
     ]
    }
   ],
   "source": [
    "y_pred_scaled = model.predict(X_test_scaled)\n",
    "mse_train = mean_squared_error(y_test_scaled, y_pred_scaled)\n",
    "print(\"MSE :\", mse_train)\n",
    "print(\"RMSE :\", np.sqrt(mse_train))\n",
    "print(\"R² :\", r2_score(y_test_scaled, y_pred_scaled))"
   ]
  },
  {
   "cell_type": "markdown",
   "id": "2f9ee40c",
   "metadata": {},
   "source": [
    "### b. Visualisation des prédictions"
   ]
  },
  {
   "cell_type": "code",
   "execution_count": 20,
   "id": "0b1bb3e5",
   "metadata": {},
   "outputs": [
    {
     "data": {
      "image/png": "[encoded data removed]",
      "text/plain": [
       "<Figure size 640x480 with 1 Axes>"
      ]
     },
     "metadata": {},
     "output_type": "display_data"
    }
   ],
   "source": [
    "plt.scatter(X_test_scaled, y_test_scaled, color='green', label='Valeur cible')\n",
    "plt.scatter(X_test_scaled, y_pred_scaled, color='pink', label='Prédiction')\n",
    "plt.title(\"Valeurs réelles et prédictions\")\n",
    "plt.xlabel(\"Surface (standardisée)\")\n",
    "plt.ylabel(\"Prix (standardisé)\")\n",
    "plt.legend()\n",
    "plt.grid(True)\n",
    "plt.show()"
   ]
  },
  {
   "cell_type": "markdown",
   "id": "57fa99c2",
   "metadata": {},
   "source": [
    "# 8. Sauvegarde du modèle et des standardiseurs (scalers)\n",
    "___"
   ]
  },
  {
   "cell_type": "markdown",
   "id": "15aaa976",
   "metadata": {},
   "source": [
    "Une fois notre modèle entraîné, il est important de le sauvegarder pour pouvoir le réutiliser plus tard, **sans devoir le réentraîner**.  \n",
    "Nous sauvegardons également les objets `StandardScaler` utilisés pour la standardisation, ⚠️ **car toute nouvelle donnée devra être transformée avec les mêmes paramètres (moyenne et écart-type) que ceux appris sur les données d’entraînement**.\n",
    "\n",
    "La sauvegarde se fait ici avec la bibliothèque `joblib`, qui permet de **sérialiser des objets Python** dans des fichiers .pkl."
   ]
  },
  {
   "cell_type": "code",
   "execution_count": 21,
   "id": "03e54f57",
   "metadata": {},
   "outputs": [
    {
     "data": {
      "text/plain": [
       "['models/scaler_y.pkl']"
      ]
     },
     "execution_count": 21,
     "metadata": {},
     "output_type": "execute_result"
    }
   ],
   "source": [
    "# Sauvegarde du modèle de régression\n",
    "joblib.dump(model, \"models/model_regression.pkl\")\n",
    "\n",
    "# Sauvegarde du standardiseur des variables explicatives (X)\n",
    "joblib.dump(scaler_X, \"models/scaler_X.pkl\")\n",
    "\n",
    "# Sauvegarde du standardiseur de la variable cible (y), si utilisé (ex : pour une régression)\n",
    "joblib.dump(scaler_y, \"models/scaler_y.pkl\")"
   ]
  },
  {
   "cell_type": "markdown",
   "id": "78c3ecc8",
   "metadata": {},
   "source": [
    "# Comment utiliser le modèle ?\n",
    "___"
   ]
  },
  {
   "cell_type": "code",
   "execution_count": 22,
   "id": "a352e514",
   "metadata": {},
   "outputs": [
    {
     "name": "stdout",
     "output_type": "stream",
     "text": [
      "Le prix prédit pour 35.5 m² est d'environ 111,611.73 €\n"
     ]
    }
   ],
   "source": [
    "# 1. Charger le modèle et les scalers\n",
    "loaded_model = joblib.load(\"models/model_regression.pkl\")\n",
    "loaded_scaler_X = joblib.load(\"models/scaler_X.pkl\")\n",
    "loaded_scaler_y = joblib.load(\"models/scaler_y.pkl\")\n",
    "\n",
    "# 2. Transformer l’entrée\n",
    "surface = np.array([[35.5]])  # Attention à la double paire de crochets pour une forme 2D\n",
    "surface_scaled = loaded_scaler_X.transform(surface)\n",
    "\n",
    "# 3. Prédiction standardisée\n",
    "price_scaled = loaded_model.predict(surface_scaled)\n",
    "\n",
    "# 4. Revenir à l’échelle réelle\n",
    "real_price = loaded_scaler_y.inverse_transform(price_scaled)\n",
    "\n",
    "print(f\"Le prix prédit pour 35.5 m² est d'environ {real_price[0][0]:,.2f} €\")"
   ]
  }
 ],
 "metadata": {
  "kernelspec": {
   "display_name": ".venv",
   "language": "python",
   "name": "python3"
  },
  "language_info": {
   "codemirror_mode": {
    "name": "ipython",
    "version": 3
   },
   "file_extension": ".py",
   "mimetype": "text/x-python",
   "name": "python",
   "nbconvert_exporter": "python",
   "pygments_lexer": "ipython3",
   "version": "3.13.3"
  }
 },
 "nbformat": 4,
 "nbformat_minor": 5
}
