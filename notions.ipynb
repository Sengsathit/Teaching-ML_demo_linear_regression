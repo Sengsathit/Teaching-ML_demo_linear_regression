{
 "cells": [
  {
   "cell_type": "markdown",
   "id": "cd434755",
   "metadata": {},
   "source": [
    "# 💪🏻 Métriques de performance pour la régression"
   ]
  },
  {
   "cell_type": "markdown",
   "id": "5543cba4",
   "metadata": {},
   "source": [
    "Pour quantifier la qualité des prédictions nous utilisons différentes métriques qui mesurent l’écart entre les valeurs prédites par le modèle et les valeurs réelles.\n",
    "\n",
    "Certaines métriques sont plus sensibles aux grandes erreurs (comme la **MSE**), d’autres sont plus lisibles (comme la **RMSE**), ou encore plus robustes aux valeurs extrêmes (comme le **MAE**).\n",
    "\n",
    "Chaque métrique a son utilité spécifique selon le contexte métier."
   ]
  },
  {
   "cell_type": "markdown",
   "id": "dd125a5d",
   "metadata": {},
   "source": [
    "### 🔵 MSE — Mean Squared Error\n",
    "\n",
    "$\\text{MSE} = \\frac{1}{n} \\sum_{i=1}^{n} (y_i - \\hat{y}_i)^2$  \n",
    "\n",
    "La MSE est utile lorsque nous voulons **fortement pénaliser les grandes erreurs**, c’est-à-dire les situations où les prédictions du modèle sont très éloignées des valeurs réelles.\n",
    "\n",
    "👉🏻 Exemple : prédire un prix immobilier avec un écart de 100 000 € est beaucoup plus grave qu’un écart de 10 000 €. La MSE accentue cette différence.\n"
   ]
  },
  {
   "cell_type": "markdown",
   "id": "df20e7af",
   "metadata": {},
   "source": [
    "###  🔵 RMSE — Root Mean Squared Error\n",
    "\n",
    "$\\text{RMSE} = \\sqrt{ \\frac{1}{n} \\sum_{i=1}^{n} (y_i - \\hat{y}_i)^2 } = \\sqrt{\\text{MSE}}$\n",
    "\n",
    "La RMSE est utile lorsque nous voulons mesurer l’erreur moyenne dans la **même unité que la variable cible**, pour pouvoir **interpréter directement** l’écart moyen.\n",
    "\n",
    "👉🏻 Exemple : si la RMSE vaut 18 500, cela signifie que les prédictions de prix immobilier s’écartent en moyenne de 18 500 €."
   ]
  },
  {
   "cell_type": "markdown",
   "id": "23f39d2f",
   "metadata": {},
   "source": [
    "###  🔵 MAE — Mean Absolute Error\n",
    "\n",
    "$\\text{MAE} = \\frac{1}{n} \\sum_{i=1}^{n} |y_i - \\hat{y}_i|$  \n",
    "\n",
    "Le MAE est utile lorsque nous voulons une estimation robuste de l’erreur moyenne, **moins influencée par les cas extrêmes**.\n",
    "\n",
    "👉🏻 Exemple : pour la prévision de la consommation d’électricité, où de rares pics ne doivent pas fausser l’évaluation globale, le MAE offre une mesure plus stable que la MSE.\n"
   ]
  },
  {
   "cell_type": "markdown",
   "id": "cd21de79",
   "metadata": {},
   "source": [
    "###  🔵 R² — Coefficient de détermination\n",
    "\n",
    "Moyenne harmonique entre **précision** et **rappel** (équilibre entre les deux).\n",
    "\n",
    "$R^2 = 1 - \\frac{ \\sum (y_i - \\hat{y}_i)^2 }{ \\sum (y_i - \\bar{y})^2 }$\n",
    "\n",
    "Le R² est utile lorsque nous voulons mesurer la **proportion de variance expliquée par le modèle**, autrement dit dans quelle mesure le modèle suit les tendances des données.\n",
    "\n",
    "👉🏻 Exemple : un R² de 0,87 signifie que le modèle explique 87 % de la variation des prix en fonction de la surface d’un bien.\n"
   ]
  }
 ],
 "metadata": {
  "kernelspec": {
   "display_name": ".venv",
   "language": "python",
   "name": "python3"
  },
  "language_info": {
   "name": "python",
   "version": "3.13.3"
  }
 },
 "nbformat": 4,
 "nbformat_minor": 5
}
